{
 "cells": [
  {
   "cell_type": "code",
   "execution_count": 4,
   "metadata": {},
   "outputs": [],
   "source": [
    "import numpy as np\n",
    "import cv2\n",
    "import matplotlib.pyplot as plt\n",
    "from scipy.spatial import ConvexHull, convex_hull_plot_2d\n",
    "\n",
    "\n",
    "def cal_luminance(img: np.array) -> np.array:\n",
    "    \"\"\"\n",
    "    :param img: Assumes img --> R->0, G->1, B->2\n",
    "    :return: L\n",
    "    \"\"\"\n",
    "    return .2126 * img[:, :, 0] + .7152 * img[:, :, 2] + .0722 * img[:, :, 1]\n",
    "\n",
    "\n",
    "def light_source_detection(rgb_img: np.array, iters: int = 10, num=0):\n",
    "    high_luminance_pixel_points = set()\n",
    "    \n",
    "    for iter in range(iters):\n",
    "        L = cal_luminance(rgb_img)\n",
    "\n",
    "        size=int(np.round(.0001*L.shape[0]*L.shape[1]))\n",
    "        col, row = np.random.randint(0, L.shape[1], size=size), np.random.randint(0, L.shape[0], size=size)\n",
    "\n",
    "        l_max = L[row, col].max()\n",
    "        indices = np.where(L[row, col] == l_max)\n",
    "        high_luminance_pixel_points |= set(tuple(zip(row[indices], col[indices])))\n",
    "    \n",
    "    hull = []\n",
    "    points = np.array(list(high_luminance_pixel_points))\n",
    "    hull.append(ConvexHull(points))\n",
    "    for simplex in hull[0].simplices:\n",
    "        plt.imshow(rgb_img, cmap='gray')\n",
    "        plt.plot(points[simplex, 1], points[simplex, 0], 'k-')\n",
    "    plt.savefig('%d.png'%num)\n",
    "    plt.show()"
   ]
  },
  {
   "cell_type": "code",
   "execution_count": 5,
   "metadata": {},
   "outputs": [
    {
     "ename": "NameError",
     "evalue": "name 'd' is not defined",
     "output_type": "error",
     "traceback": [
      "\u001b[1;31m---------------------------------------------------------------------------\u001b[0m",
      "\u001b[1;31mNameError\u001b[0m                                 Traceback (most recent call last)",
      "\u001b[1;32m<ipython-input-5-4d5a85729666>\u001b[0m in \u001b[0;36m<module>\u001b[1;34m\u001b[0m\n\u001b[0;32m      1\u001b[0m \u001b[1;32mfor\u001b[0m \u001b[0mi\u001b[0m \u001b[1;32min\u001b[0m \u001b[0mrange\u001b[0m\u001b[1;33m(\u001b[0m\u001b[1;36m1\u001b[0m\u001b[1;33m,\u001b[0m\u001b[1;36m7\u001b[0m\u001b[1;33m)\u001b[0m\u001b[1;33m:\u001b[0m\u001b[1;33m\u001b[0m\u001b[1;33m\u001b[0m\u001b[0m\n\u001b[1;32m----> 2\u001b[1;33m     \u001b[0mim\u001b[0m \u001b[1;33m=\u001b[0m \u001b[0mcv2\u001b[0m\u001b[1;33m.\u001b[0m\u001b[0mimread\u001b[0m\u001b[1;33m(\u001b[0m\u001b[1;34m'./test/light \\(%d\\).png'\u001b[0m\u001b[1;33m%\u001b[0m\u001b[0md\u001b[0m\u001b[1;33m)\u001b[0m\u001b[1;33m\u001b[0m\u001b[1;33m\u001b[0m\u001b[0m\n\u001b[0m\u001b[0;32m      3\u001b[0m \u001b[1;33m\u001b[0m\u001b[0m\n\u001b[0;32m      4\u001b[0m     \u001b[0mlight_source_detection\u001b[0m\u001b[1;33m(\u001b[0m\u001b[0mim\u001b[0m\u001b[1;33m,\u001b[0m \u001b[0mi\u001b[0m\u001b[1;33m)\u001b[0m\u001b[1;33m\u001b[0m\u001b[1;33m\u001b[0m\u001b[0m\n",
      "\u001b[1;31mNameError\u001b[0m: name 'd' is not defined"
     ]
    }
   ],
   "source": [
    "for i in range(1,7):\n",
    "    im = cv2.imread('./test/light \\(%d\\).png'%i)\n",
    "\n",
    "    light_source_detection(im, i)"
   ]
  },
  {
   "cell_type": "code",
   "execution_count": null,
   "metadata": {},
   "outputs": [],
   "source": []
  }
 ],
 "metadata": {
  "kernelspec": {
   "display_name": "Python 3",
   "language": "python",
   "name": "python3"
  },
  "language_info": {
   "codemirror_mode": {
    "name": "ipython",
    "version": 3
   },
   "file_extension": ".py",
   "mimetype": "text/x-python",
   "name": "python",
   "nbconvert_exporter": "python",
   "pygments_lexer": "ipython3",
   "version": "3.7.9"
  }
 },
 "nbformat": 4,
 "nbformat_minor": 4
}
